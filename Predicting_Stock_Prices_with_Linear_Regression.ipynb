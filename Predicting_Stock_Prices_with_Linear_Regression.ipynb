{
  "nbformat": 4,
  "nbformat_minor": 0,
  "metadata": {
    "kernelspec": {
      "display_name": "Python 3",
      "language": "python",
      "name": "python3"
    },
    "language_info": {
      "codemirror_mode": {
        "name": "ipython",
        "version": 3
      },
      "file_extension": ".py",
      "mimetype": "text/x-python",
      "name": "python",
      "nbconvert_exporter": "python",
      "pygments_lexer": "ipython3",
      "version": "3.6.8"
    },
    "colab": {
      "name": "Predicting Stock Prices with Linear Regression.ipynb",
      "provenance": []
    }
  },
  "cells": [
    {
      "cell_type": "markdown",
      "metadata": {
        "id": "xLHnk43HVpIz",
        "colab_type": "text"
      },
      "source": [
        "# Predicting Stock Prices with Linear Regression"
      ]
    },
    {
      "cell_type": "markdown",
      "metadata": {
        "id": "4FkD9BooVpI1",
        "colab_type": "text"
      },
      "source": [
        "To answer the question if we can accurately predict stock prices over time, I'm going to use Stock Price history data from the Quadl API and apply a regression analysis method."
      ]
    },
    {
      "cell_type": "markdown",
      "metadata": {
        "id": "HK8VgvZWVpI3",
        "colab_type": "text"
      },
      "source": [
        "## Check out the Data\n",
        "\n",
        "### Import Libraries"
      ]
    },
    {
      "cell_type": "code",
      "metadata": {
        "id": "PqqchIYPVpI5",
        "colab_type": "code",
        "colab": {}
      },
      "source": [
        "import numpy as np\n",
        "import pandas as pd\n",
        "import datetime\n",
        "import pandas_datareader as web\n",
        "%matplotlib inline\n",
        "import matplotlib.pyplot as plt\n",
        "import seaborn as sns\n",
        "plt.style.use('seaborn-darkgrid')\n",
        "plt.rc('figure', figsize=(16,10))\n",
        "plt.rc('lines', markersize=4)"
      ],
      "execution_count": null,
      "outputs": []
    },
    {
      "cell_type": "markdown",
      "metadata": {
        "id": "Ve97hjNyVpJB",
        "colab_type": "text"
      },
      "source": [
        "### Configure Quandl"
      ]
    },
    {
      "cell_type": "code",
      "metadata": {
        "id": "WmZBymfuVpJC",
        "colab_type": "code",
        "colab": {}
      },
      "source": [
        ""
      ],
      "execution_count": null,
      "outputs": []
    },
    {
      "cell_type": "code",
      "metadata": {
        "id": "JXN1yA0nVpJG",
        "colab_type": "code",
        "colab": {}
      },
      "source": [
        ""
      ],
      "execution_count": null,
      "outputs": []
    },
    {
      "cell_type": "markdown",
      "metadata": {
        "id": "MIJ_swwRVpJL",
        "colab_type": "text"
      },
      "source": [
        "### Get the Data"
      ]
    },
    {
      "cell_type": "code",
      "metadata": {
        "id": "pL1HvU_rVpJM",
        "colab_type": "code",
        "colab": {
          "base_uri": "https://localhost:8080/",
          "height": 229
        },
        "outputId": "de6f95d7-7d72-44b2-d13e-7844ad4ecced"
      },
      "source": [
        "# Set start and end date for stock prices\n",
        "start_date = datetime.date(2009, 3,8)\n",
        "end_date = datetime.date.today()\n",
        "# Load data from Quandl\n",
        "startdate = (2002,1,12)\n",
        "data = web.DataReader('AAPL','yahoo',stardtate,datetime.datetime.now())\n",
        "# Save data to CSV file\n",
        "data.to_csv('./sap_stock.csv')"
      ],
      "execution_count": null,
      "outputs": [
        {
          "output_type": "error",
          "ename": "NameError",
          "evalue": "ignored",
          "traceback": [
            "\u001b[0;31m---------------------------------------------------------------------------\u001b[0m",
            "\u001b[0;31mNameError\u001b[0m                                 Traceback (most recent call last)",
            "\u001b[0;32m<ipython-input-14-d309aec8cfc9>\u001b[0m in \u001b[0;36m<module>\u001b[0;34m()\u001b[0m\n\u001b[1;32m      4\u001b[0m \u001b[0;31m# Load data from Quandl\u001b[0m\u001b[0;34m\u001b[0m\u001b[0;34m\u001b[0m\u001b[0;34m\u001b[0m\u001b[0m\n\u001b[1;32m      5\u001b[0m \u001b[0mstartdate\u001b[0m \u001b[0;34m=\u001b[0m \u001b[0;34m(\u001b[0m\u001b[0;36m2002\u001b[0m\u001b[0;34m,\u001b[0m\u001b[0;36m1\u001b[0m\u001b[0;34m,\u001b[0m\u001b[0;36m12\u001b[0m\u001b[0;34m)\u001b[0m\u001b[0;34m\u001b[0m\u001b[0;34m\u001b[0m\u001b[0m\n\u001b[0;32m----> 6\u001b[0;31m \u001b[0mdata\u001b[0m \u001b[0;34m=\u001b[0m \u001b[0mweb\u001b[0m\u001b[0;34m.\u001b[0m\u001b[0mDataReader\u001b[0m\u001b[0;34m(\u001b[0m\u001b[0;34m'AAPL'\u001b[0m\u001b[0;34m,\u001b[0m\u001b[0;34m'yahoo'\u001b[0m\u001b[0;34m,\u001b[0m\u001b[0mstardtate\u001b[0m\u001b[0;34m,\u001b[0m\u001b[0mdatetime\u001b[0m\u001b[0;34m.\u001b[0m\u001b[0mdatetime\u001b[0m\u001b[0;34m.\u001b[0m\u001b[0mnow\u001b[0m\u001b[0;34m(\u001b[0m\u001b[0;34m)\u001b[0m\u001b[0;34m)\u001b[0m\u001b[0;34m\u001b[0m\u001b[0;34m\u001b[0m\u001b[0m\n\u001b[0m\u001b[1;32m      7\u001b[0m \u001b[0;31m# Save data to CSV file\u001b[0m\u001b[0;34m\u001b[0m\u001b[0;34m\u001b[0m\u001b[0;34m\u001b[0m\u001b[0m\n\u001b[1;32m      8\u001b[0m \u001b[0mdata\u001b[0m\u001b[0;34m.\u001b[0m\u001b[0mto_csv\u001b[0m\u001b[0;34m(\u001b[0m\u001b[0;34m'./sap_stock.csv'\u001b[0m\u001b[0;34m)\u001b[0m\u001b[0;34m\u001b[0m\u001b[0;34m\u001b[0m\u001b[0m\n",
            "\u001b[0;31mNameError\u001b[0m: name 'stardtate' is not defined"
          ]
        }
      ]
    },
    {
      "cell_type": "code",
      "metadata": {
        "id": "hkvthxzkVpJb",
        "colab_type": "code",
        "colab": {}
      },
      "source": [
        "data.head()"
      ],
      "execution_count": null,
      "outputs": []
    },
    {
      "cell_type": "code",
      "metadata": {
        "id": "BGUz5pZKVpJm",
        "colab_type": "code",
        "colab": {}
      },
      "source": [
        "# Check data types in columns\n",
        "data.info()"
      ],
      "execution_count": null,
      "outputs": []
    },
    {
      "cell_type": "code",
      "metadata": {
        "id": "HcNJ_pDwVpJv",
        "colab_type": "code",
        "colab": {}
      },
      "source": [
        "# Get descriptive statistics summary of data set \n",
        "data.describe()"
      ],
      "execution_count": null,
      "outputs": []
    },
    {
      "cell_type": "code",
      "metadata": {
        "id": "tazW9EBdVpJ3",
        "colab_type": "code",
        "colab": {}
      },
      "source": [
        "# Display features in data set\n",
        "data.columns"
      ],
      "execution_count": null,
      "outputs": []
    },
    {
      "cell_type": "markdown",
      "metadata": {
        "id": "omj3T5B4VpJ9",
        "colab_type": "text"
      },
      "source": [
        "### Select Subset with relevant features\n",
        "\n",
        "We use the daily closing price **Close** as the value to predict, so we can discard the other features.  \n",
        "\n",
        "* 'Close' column has numerical data type\n",
        "* The 'Date' is the index column and contains datetime values"
      ]
    },
    {
      "cell_type": "code",
      "metadata": {
        "id": "zFMejsheVpJ_",
        "colab_type": "code",
        "colab": {}
      },
      "source": [
        "# Create a new DataFrame with only closing price and date\n",
        "df = pd.DataFrame(data, columns=['Close'])\n",
        "\n",
        "# Reset index column so that we have integers to represent time for later analysis\n",
        "df = df.reset_index()"
      ],
      "execution_count": null,
      "outputs": []
    },
    {
      "cell_type": "code",
      "metadata": {
        "id": "C3j9mXdlVpKF",
        "colab_type": "code",
        "colab": {}
      },
      "source": [
        "df.head()"
      ],
      "execution_count": null,
      "outputs": []
    },
    {
      "cell_type": "code",
      "metadata": {
        "id": "gXGGpfMfVpKM",
        "colab_type": "code",
        "colab": {}
      },
      "source": [
        "# Check data types in columns\n",
        "df.info()"
      ],
      "execution_count": null,
      "outputs": []
    },
    {
      "cell_type": "code",
      "metadata": {
        "id": "4M-hit9PVpKW",
        "colab_type": "code",
        "colab": {}
      },
      "source": [
        "# Check for missing values in the columns\n",
        "df.isna().values.any()"
      ],
      "execution_count": null,
      "outputs": []
    },
    {
      "cell_type": "markdown",
      "metadata": {
        "id": "6Z-VnfOHVpKi",
        "colab_type": "text"
      },
      "source": [
        "## Explore the Data\n",
        "\n",
        "When we take a look at the price movement over time by simply plotting the *Closing price* vs *Time*, we can already see, that the price continously increases over time and we can also estimate that trend could be linear."
      ]
    },
    {
      "cell_type": "code",
      "metadata": {
        "id": "xoAXozdWVpKk",
        "colab_type": "code",
        "colab": {}
      },
      "source": [
        "# Import matplotlib package for date plots\n",
        "import matplotlib.dates as mdates\n",
        "\n",
        "years = mdates.YearLocator() # Get every year\n",
        "yearsFmt = mdates.DateFormatter('%Y') # Set year format\n",
        "\n",
        "# Create subplots to plot graph and control axes\n",
        "fig, ax = plt.subplots()\n",
        "ax.plot(df['Date'], df['Close'])\n",
        "\n",
        "# Format the ticks\n",
        "ax.xaxis.set_major_locator(years)\n",
        "ax.xaxis.set_major_formatter(yearsFmt)\n",
        "\n",
        "# Set figure title\n",
        "plt.title('Close Stock Price History [2009 - 2019]', fontsize=16)\n",
        "# Set x label\n",
        "plt.xlabel('Date', fontsize=14)\n",
        "# Set y label\n",
        "plt.ylabel('Closing Stock Price in $', fontsize=14)\n",
        "\n",
        "# Rotate and align the x labels\n",
        "fig.autofmt_xdate()\n",
        "\n",
        "# Show plot\n",
        "plt.show()"
      ],
      "execution_count": null,
      "outputs": []
    },
    {
      "cell_type": "markdown",
      "metadata": {
        "id": "1VPbzm9tVpKp",
        "colab_type": "text"
      },
      "source": [
        "## Linear Regression\n",
        " \n",
        "Our data contains only one **independent variable ($X$)** which represents the *date* and the **dependent variable ($Y$)** we are trying to predict is the *Stock Price*. To fit a line to the data points, which then represents an estimated relationship between $X$ and $Y$, we can use a **Simple Linear Regression**.\n",
        "\n",
        "The best fit line can be described with  \n",
        "$$\n",
        "Y = \\beta_0 + \\beta_1 X\n",
        "$$\n",
        "\n",
        "where  \n",
        "* $Y$ is the predicted value of the dependent variable\n",
        "* $\\beta_0$ is the y-intercept\n",
        "* $\\beta_1$ is the slope\n",
        "* $X$ is the value of the independent variable\n",
        "\n",
        "The goal is to find such coefficients $\\beta_0$ and $\\beta_1$ that the **Sum of Squared Errors**, which represents the difference between each point in the dataset with it’s corresponding predicted value outputted by the model, is minimal."
      ]
    },
    {
      "cell_type": "markdown",
      "metadata": {
        "id": "frZM9aDHVpKr",
        "colab_type": "text"
      },
      "source": [
        "### Training a Linear Regression Model"
      ]
    },
    {
      "cell_type": "markdown",
      "metadata": {
        "id": "7nfdynopVpKt",
        "colab_type": "text"
      },
      "source": [
        "### Train Test Split"
      ]
    },
    {
      "cell_type": "code",
      "metadata": {
        "id": "7BCnh4XsVpKv",
        "colab_type": "code",
        "colab": {}
      },
      "source": [
        "# Import package for splitting data set\n",
        "from sklearn.model_selection import train_test_split"
      ],
      "execution_count": null,
      "outputs": []
    },
    {
      "cell_type": "code",
      "metadata": {
        "id": "y2riwO7cVpK3",
        "colab_type": "code",
        "colab": {}
      },
      "source": [
        "# Split data into train and test set: 80% / 20%\n",
        "train, test = train_test_split(df, test_size=0.20)"
      ],
      "execution_count": null,
      "outputs": []
    },
    {
      "cell_type": "markdown",
      "metadata": {
        "id": "6VSWA3xbVpK-",
        "colab_type": "text"
      },
      "source": [
        "### Create and Train the Model"
      ]
    },
    {
      "cell_type": "code",
      "metadata": {
        "id": "9pvtfXW6VpLA",
        "colab_type": "code",
        "colab": {}
      },
      "source": [
        "# Import package for linear model\n",
        "from sklearn.linear_model import LinearRegression"
      ],
      "execution_count": null,
      "outputs": []
    },
    {
      "cell_type": "code",
      "metadata": {
        "id": "eoezWu5yVpLN",
        "colab_type": "code",
        "colab": {}
      },
      "source": [
        "# Reshape index column to 2D array for .fit() method\n",
        "X_train = np.array(train.index).reshape(-1, 1)\n",
        "y_train = train['Close']"
      ],
      "execution_count": null,
      "outputs": []
    },
    {
      "cell_type": "code",
      "metadata": {
        "id": "BGOmw_UBVpLU",
        "colab_type": "code",
        "colab": {}
      },
      "source": [
        "# Create LinearRegression Object\n",
        "model = LinearRegression()\n",
        "# Fit linear model using the train data set\n",
        "model.fit(X_train, y_train)"
      ],
      "execution_count": null,
      "outputs": []
    },
    {
      "cell_type": "markdown",
      "metadata": {
        "id": "QUu6wH9qVpLc",
        "colab_type": "text"
      },
      "source": [
        "### Model Evaluation"
      ]
    },
    {
      "cell_type": "code",
      "metadata": {
        "id": "n6TDZIKrVpLe",
        "colab_type": "code",
        "colab": {}
      },
      "source": [
        "# The coefficient\n",
        "print('Slope: ', np.asscalar(np.squeeze(model.coef_)))\n",
        "# The Intercept\n",
        "print('Intercept: ', model.intercept_)"
      ],
      "execution_count": null,
      "outputs": []
    },
    {
      "cell_type": "markdown",
      "metadata": {
        "id": "d469if_wVpLm",
        "colab_type": "text"
      },
      "source": [
        "Interpreting the coefficients:\n",
        "\n",
        "* The **slope** coefficient tells us that with a 1 unit increase in **date** the **closing price** increases by 0.0276 $\n",
        "* The **intercept** coefficient is the price at wich the **closing price** measurement started, the stock price value at date zero"
      ]
    },
    {
      "cell_type": "code",
      "metadata": {
        "id": "6P5cB58PVpLo",
        "colab_type": "code",
        "colab": {}
      },
      "source": [
        "# Train set graph\n",
        "plt.figure(1, figsize=(16,10))\n",
        "plt.title('Linear Regression | Price vs Time')\n",
        "plt.scatter(X_train, y_train, edgecolor='w', label='Actual Price')\n",
        "plt.plot(X_train, model.predict(X_train), color='r', label='Predicted Price')\n",
        "plt.xlabel('Integer Date')\n",
        "plt.ylabel('Stock Price')\n",
        "plt.legend()\n",
        "plt.show()"
      ],
      "execution_count": null,
      "outputs": []
    },
    {
      "cell_type": "markdown",
      "metadata": {
        "id": "O6KYnmguVpLw",
        "colab_type": "text"
      },
      "source": [
        "### Prediction from our Model"
      ]
    },
    {
      "cell_type": "code",
      "metadata": {
        "id": "n3SalSF7VpLw",
        "colab_type": "code",
        "colab": {}
      },
      "source": [
        "# Create test arrays\n",
        "X_test = np.array(test.index).reshape(-1, 1)\n",
        "y_test = test['Close']"
      ],
      "execution_count": null,
      "outputs": []
    },
    {
      "cell_type": "code",
      "metadata": {
        "id": "nfldes-cVpL9",
        "colab_type": "code",
        "colab": {}
      },
      "source": [
        "# Generate array with predicted values\n",
        "y_pred = model.predict(X_test)"
      ],
      "execution_count": null,
      "outputs": []
    },
    {
      "cell_type": "markdown",
      "metadata": {
        "id": "URIeAKzxVpMB",
        "colab_type": "text"
      },
      "source": [
        "## Regression Evaluation"
      ]
    },
    {
      "cell_type": "markdown",
      "metadata": {
        "id": "1ilmIzb-VpMB",
        "colab_type": "text"
      },
      "source": [
        "Let's have a look at how the predicted values compare with the actual value on random sample from our data set."
      ]
    },
    {
      "cell_type": "code",
      "metadata": {
        "id": "4Z46a_kRVpME",
        "colab_type": "code",
        "colab": {}
      },
      "source": [
        "# Get number of rows in data set for random sample\n",
        "df.shape"
      ],
      "execution_count": null,
      "outputs": []
    },
    {
      "cell_type": "code",
      "metadata": {
        "id": "1zj8ClG4VpML",
        "colab_type": "code",
        "colab": {}
      },
      "source": [
        "# Generate 25 random numbers\n",
        "randints = np.random.randint(2550, size=25)\n",
        "\n",
        "# Select row numbers == random numbers\n",
        "df_sample = df[df.index.isin(randints)]"
      ],
      "execution_count": null,
      "outputs": []
    },
    {
      "cell_type": "code",
      "metadata": {
        "id": "bxUE2kFcVpMT",
        "colab_type": "code",
        "colab": {}
      },
      "source": [
        "df_sample.head()"
      ],
      "execution_count": null,
      "outputs": []
    },
    {
      "cell_type": "code",
      "metadata": {
        "id": "kzTeSIstVpMZ",
        "colab_type": "code",
        "colab": {}
      },
      "source": [
        "# Create subplots to plot graph and control axes\n",
        "fig, ax = plt.subplots()\n",
        "df_sample.plot(x='Date', y=['Close', 'Prediction'], kind='bar', ax=ax)\n",
        "\n",
        "# Set figure title\n",
        "plt.title('Comparison Predicted vs Actual Price in Sample data selection', fontsize=16)\n",
        "\n",
        "# \n",
        "\n",
        "# Set x label\n",
        "plt.xlabel('Date', fontsize=14)\n",
        "\n",
        "# Set y label\n",
        "plt.ylabel('Stock Price in $', fontsize=14)\n",
        "\n",
        "# Show plot\n",
        "plt.show()"
      ],
      "execution_count": null,
      "outputs": []
    },
    {
      "cell_type": "markdown",
      "metadata": {
        "id": "hCxWQmChVpMe",
        "colab_type": "text"
      },
      "source": [
        "We can see some larger variations between predicted and actual values in the random sample.  \n",
        "Let's see how the model performed over the whole test data set. "
      ]
    },
    {
      "cell_type": "code",
      "metadata": {
        "id": "hMkGgHbRVpMf",
        "colab_type": "code",
        "colab": {}
      },
      "source": [
        "# Plot fitted line, y test\n",
        "plt.figure(1, figsize=(16,10))\n",
        "plt.title('Linear Regression | Price vs Time')\n",
        "plt.plot(X_test, model.predict(X_test), color='r', label='Predicted Price')\n",
        "plt.scatter(X_test, y_test, edgecolor='w', label='Actual Price')\n",
        "\n",
        "plt.xlabel('Integer Date')\n",
        "plt.ylabel('Stock Price in $')\n",
        "\n",
        "plt.show()"
      ],
      "execution_count": null,
      "outputs": []
    },
    {
      "cell_type": "code",
      "metadata": {
        "id": "fBoRc83rVpMr",
        "colab_type": "code",
        "colab": {}
      },
      "source": [
        "# Plot predicted vs actual prices\n",
        "plt.scatter(y_test, y_pred)\n",
        "\n",
        "plt.xlabel('Actual Prices')\n",
        "plt.ylabel('Predicted Prices')\n",
        "\n",
        "plt.title('Predicted vs Actual Price')\n",
        "\n",
        "plt.show()"
      ],
      "execution_count": null,
      "outputs": []
    },
    {
      "cell_type": "markdown",
      "metadata": {
        "id": "rn89aWeMVpMy",
        "colab_type": "text"
      },
      "source": [
        "The data points are mostly close to a diagonal, which indicates, that the predicted values are close to the actual value and the model's performance is largerly quite good.  \n",
        "Yet there are some areas, around 55 to 65, the model seems to be quite random and shows no relationship between the predicted and actual value.  \n",
        "Also in the area around 85 - 110 the data point are spread out quite heavily and the predictions don't cover the values above 100."
      ]
    },
    {
      "cell_type": "markdown",
      "metadata": {
        "id": "WNW27x4-VpMz",
        "colab_type": "text"
      },
      "source": [
        "#### Residual Histogram\n",
        "\n",
        "The residuals are nearly normally distributed around zero, with a slight skewedness to the right. "
      ]
    },
    {
      "cell_type": "code",
      "metadata": {
        "id": "HAKhKb6iVpM0",
        "colab_type": "code",
        "colab": {}
      },
      "source": [
        "# Import norm package to plot normal distribution\n",
        "from scipy.stats import norm\n",
        "\n",
        "# Fit a normal distribution to the data:\n",
        "mu, std = norm.fit(y_test - y_pred)\n",
        "\n",
        "ax = sns.distplot((y_test - y_pred), label='Residual Histogram & Distribution')\n",
        "\n",
        "# Calculate the pdf over a range of values         \n",
        "x = np.linspace(min(y_test - y_pred), max(y_test - y_pred), 100)\n",
        "p = norm.pdf(x, mu, std)\n",
        "\n",
        "# And plot on the same axes that seaborn put the histogram\n",
        "ax.plot(x, p, 'r', lw=2, label='Normal Distribution') \n",
        "\n",
        "plt.legend()\n",
        "plt.show()"
      ],
      "execution_count": null,
      "outputs": []
    },
    {
      "cell_type": "code",
      "metadata": {
        "id": "9Mr_tpiRVpM5",
        "colab_type": "code",
        "colab": {}
      },
      "source": [
        "# Add new column for predictions to df\n",
        "df['Prediction'] = model.predict(np.array(df.index).reshape(-1, 1))"
      ],
      "execution_count": null,
      "outputs": []
    },
    {
      "cell_type": "code",
      "metadata": {
        "id": "PuKrCsrcVpNB",
        "colab_type": "code",
        "colab": {}
      },
      "source": [
        "df.head()"
      ],
      "execution_count": null,
      "outputs": []
    },
    {
      "cell_type": "markdown",
      "metadata": {
        "id": "aL0TGQt8VpNH",
        "colab_type": "text"
      },
      "source": [
        "### Error Evaluation Metrics\n",
        "\n",
        "**Mean Absolute Error (MAE)** is the mean of the absolute value of the errors:\n",
        "$$\n",
        "\\frac{1}{N} \\sum_{i = 1}^{N} |y_i - \\hat{y}_i|\n",
        "$$\n",
        "\n",
        "**Mean Squared Error (MSE)** is the mean of the squared errors:\n",
        "$$\n",
        "\\frac{1}{N} \\sum_{i = 1}^{N} (y_i - \\hat{y}_i)^2\n",
        "$$\n",
        "\n",
        "**Root Mean Squared Error (RMSE)** is the square root of the mean of the squared errors:\n",
        "$$\n",
        "\\sqrt{\\frac{1}{N} \\sum_{i = 1}^{N} (y_i - \\hat{y}_i)^2}\n",
        "$$\n",
        "\n",
        "All of these are **cost functions** we want to minimize."
      ]
    },
    {
      "cell_type": "code",
      "metadata": {
        "id": "ayjiPSQLVpNI",
        "colab_type": "code",
        "colab": {}
      },
      "source": [
        "# Import metrics package from sklearn for statistical analysis\n",
        "from sklearn import metrics"
      ],
      "execution_count": null,
      "outputs": []
    },
    {
      "cell_type": "code",
      "metadata": {
        "id": "IrAU0utNVpNR",
        "colab_type": "code",
        "colab": {}
      },
      "source": [
        "# Statistical summary of test data\n",
        "df['Close'].describe()"
      ],
      "execution_count": null,
      "outputs": []
    },
    {
      "cell_type": "code",
      "metadata": {
        "id": "HB3OMrouVpNa",
        "colab_type": "code",
        "colab": {}
      },
      "source": [
        "# Calculate and print values of MAE, MSE, RMSE\n",
        "print('Mean Absolute Error:', metrics.mean_absolute_error(y_test, y_pred))  \n",
        "print('Mean Squared Error:', metrics.mean_squared_error(y_test, y_pred))  \n",
        "print('Root Mean Squared Error:', np.sqrt(metrics.mean_squared_error(y_test, y_pred)))"
      ],
      "execution_count": null,
      "outputs": []
    },
    {
      "cell_type": "markdown",
      "metadata": {
        "id": "Xc-YBsiUVpNg",
        "colab_type": "text"
      },
      "source": [
        "* The MAE is 3% (of minimum) and 6% (of maximum) of the Closing Price.\n",
        "* The other two errors are larger, because the errors are squared and have therefore a greater influence on the result."
      ]
    },
    {
      "cell_type": "markdown",
      "metadata": {
        "id": "lbu8GQfyVpNh",
        "colab_type": "text"
      },
      "source": [
        "### Accuracy Evaluation Metrics\n",
        "\n",
        "To see how accurate our model is, we can calculate the **Coefficient of determination**, which describes the ratio between the total error and the error, that is explained by our model. It's value is between 0 and 1, with 1 meaning 100% of the error is acoounted for by the model. \n",
        "\n",
        "**Coefficient of determination**\n",
        "$$\n",
        "R^2 = 1 - \\frac{RSS}{TSS}\n",
        "$$\n",
        "\n",
        "with  \n",
        "\n",
        "**Residual Sum of Squares (RSS)**\n",
        "$$\n",
        "RSS = \\sum_{i = 1}^{N} \\epsilon_i^2 = \\sum_{i = 1}^{N} (y_i - \\hat{y}_i)^2\n",
        "$$\n",
        "\n",
        "**Total Sum of Squares (TSS)**\n",
        "$$\n",
        "TSS = \\sum_{i = 1}^{N} (y_i - \\bar{y}_i)^2\n",
        "$$\n"
      ]
    },
    {
      "cell_type": "code",
      "metadata": {
        "id": "qpBBxKy-VpNi",
        "colab_type": "code",
        "colab": {}
      },
      "source": [
        "print('R2: ', metrics.r2_score(y_test, y_pred))"
      ],
      "execution_count": null,
      "outputs": []
    },
    {
      "cell_type": "code",
      "metadata": {
        "id": "ZKKP8N8DVpNo",
        "colab_type": "code",
        "colab": {}
      },
      "source": [
        "from sklearn.metrics import explained_variance_score\n",
        "explained_variance_score(y_test, y_pred)"
      ],
      "execution_count": null,
      "outputs": []
    },
    {
      "cell_type": "markdown",
      "metadata": {
        "id": "sNaAdRsPVpNu",
        "colab_type": "text"
      },
      "source": [
        "The value of $R^2$ shows that are model accounts for nearly 94% of the differences between the actual stock prices and the predicted prices. "
      ]
    }
  ]
}